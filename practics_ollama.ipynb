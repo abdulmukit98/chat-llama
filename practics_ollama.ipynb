{
 "cells": [
  {
   "cell_type": "code",
   "execution_count": 4,
   "metadata": {},
   "outputs": [],
   "source": [
    "from langchain_ollama import OllamaLLM\n",
    "from langchain_core.prompts import ChatPromptTemplate"
   ]
  },
  {
   "cell_type": "code",
   "execution_count": 2,
   "metadata": {},
   "outputs": [
    {
     "name": "stdout",
     "output_type": "stream",
     "text": [
      "Assalamu alaikum, Abdul Mukit! How can I assist you today?\n"
     ]
    }
   ],
   "source": [
    "model = OllamaLLM(model=\"llama3.2\")\n",
    "\n",
    "result = model.invoke(input=\"I am Abdul Mukit\")\n",
    "print(result)"
   ]
  },
  {
   "cell_type": "code",
   "execution_count": 5,
   "metadata": {},
   "outputs": [
    {
     "name": "stdout",
     "output_type": "stream",
     "text": [
      "I'm doing well, thank you for asking! How about you?\n"
     ]
    }
   ],
   "source": [
    "template = \"\"\"\n",
    "Answer the question below.\n",
    "\n",
    "Question: {question}\n",
    "Answer:\n",
    "\n",
    "\"\"\"\n",
    "\n",
    "prompt = ChatPromptTemplate.from_template(template)\n",
    "chain = prompt | model\n",
    "result = chain.invoke({\"question\": \"Hey, how are you?\"})\n",
    "print(result)"
   ]
  },
  {
   "cell_type": "code",
   "execution_count": 10,
   "metadata": {},
   "outputs": [
    {
     "name": "stdout",
     "output_type": "stream",
     "text": [
      "Me: Hello llama. I am abdul mukit\n",
      "Response: Hello Abdul Mukit, how can I assist you today?\n",
      "\n",
      "Me: my name is Abdul mukit\n",
      "Response: Hello Abdul Mukit, it's nice to meet you. You've already shared that information with me when we greeted each other earlier. Is there anything else you'd like to discuss or ask for assistance with?\n",
      "\n",
      "Me: How many legs a cow has?\n",
      "Response: Hello Abdul Mukit, it seems you're looking for some general knowledge about cows. Cows are mammals and, as such, they have four legs. Is there anything else I can help you with regarding this topic or would you like to ask something else?\n",
      "\n",
      "Me: What is the country of Bangladesh?\n",
      "Response: Hello Abdul Mukit, it seems you're looking for some general knowledge about a different topic. The country of Bangladesh is located in South Asia and consists of the eastern part of the Indian subcontinent. It gained independence from Pakistan on December 16, 1971. Is there anything else I can help you with regarding this topic or would you like to ask something else?\n",
      "\n"
     ]
    }
   ],
   "source": [
    "context = \"\"\n",
    "question = \"\"\n",
    "\n",
    "while (True):\n",
    "    question = input(\"You: \")\n",
    "    if question == \"exit\":\n",
    "        break\n",
    "    \n",
    "    template = \"\"\"\n",
    "    Answer question based on context below.\n",
    "\n",
    "    context: {context}\n",
    "    question: {question}\n",
    "    Answer: \n",
    "\n",
    "    \"\"\"\n",
    "\n",
    "    prompt = ChatPromptTemplate.from_template(template)\n",
    "    chain = prompt | model\n",
    "    result = chain.invoke({\"context\": {context}, \"question\": {question}})\n",
    "    context += \"\\nMe: \" + question + \"\\nAI: \" + result\n",
    "    print(\"Me: \" + question + \"\\nResponse: \" + result + \"\\n\") "
   ]
  }
 ],
 "metadata": {
  "kernelspec": {
   "display_name": "base",
   "language": "python",
   "name": "python3"
  },
  "language_info": {
   "codemirror_mode": {
    "name": "ipython",
    "version": 3
   },
   "file_extension": ".py",
   "mimetype": "text/x-python",
   "name": "python",
   "nbconvert_exporter": "python",
   "pygments_lexer": "ipython3",
   "version": "3.12.4"
  }
 },
 "nbformat": 4,
 "nbformat_minor": 2
}
